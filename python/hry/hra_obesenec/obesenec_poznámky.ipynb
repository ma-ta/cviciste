{
 "metadata": {
  "language_info": {
   "codemirror_mode": {
    "name": "ipython",
    "version": 3
   },
   "file_extension": ".py",
   "mimetype": "text/x-python",
   "name": "python",
   "nbconvert_exporter": "python",
   "pygments_lexer": "ipython3",
   "version": "3.8.5-final"
  },
  "orig_nbformat": 2,
  "kernelspec": {
   "name": "python_defaultSpec_1595919343561",
   "display_name": "Python 3.8.5 64-bit"
  }
 },
 "nbformat": 4,
 "nbformat_minor": 2,
 "cells": [
  {
   "cell_type": "markdown",
   "metadata": {},
   "source": [
    "HRA OBĚŠENEC\n",
    "\n",
    "SOUHRN: Hráč se snaží uhodnout tajné slovo (např. Abeceda), a to tím způsobem, že postupně zkouší různá písmena. Pakliže písmeno ve slově není obsaženo, hráčí se strhne jeden život (bod).\n",
    "Již na začátku je hráči zobrazen řetězec '-------', jehož délka odpovídá tajnému slovu a každé uhodnuté písmeno se rovněž zobrazí na všech odpovídajících pozicích (např. 'A-e-e-a').\n",
    "Hráč začíná s osmi životy. Výhra nastane po odkrytí celého slova a celkové dosažené skóre je pak rovno počtu zbylých životů."
   ]
  },
  {
   "cell_type": "markdown",
   "metadata": {},
   "source": [
    "PRŮBĚH:\n",
    "- po spuštění programu je hráč uvítán a je mu nabídnuto menu: nová hra / pravidla / konec\n",
    "- po spuštění hry se vybere náhodné slovo z n-tice (souboru) a hráči se vypíše řetězec znaků \"-\" délkou odpovídající hledanému slovu, počet životů a je vyzván k zadání jím hádaného písmena (nerozlišuje se přitom velikost)\n",
    "- pakliže zadané písmeno ve slově není, je o tom slovně informován, odečte se jeden život a hádá znovu\n",
    "- jakmile ztratí všechny životy, je hráč slovně informován o prohře a po stisku libovolné klávesy se vrátí do menu\n",
    "- když dojde k uhádnutí všech písmen (slova), je slovně informován o výhře, dosaženém skóre (zbývající životy) a po stisku libovolné klávesy se vrátí do menu"
   ]
  },
  {
   "cell_type": "markdown",
   "metadata": {},
   "source": [
    "TESTOVACÍ SLOVA:\n",
    "\n",
    "Python, JavaScript, Java, Kotlin, Pascal, Delphi, PHP, C, Swift"
   ]
  },
  {
   "cell_type": "code",
   "execution_count": 3,
   "metadata": {},
   "outputs": [],
   "source": [
    "# STRUKTURA PROGRAMU:\n",
    "\n",
    "# Seznam konstant/proměnných:\n",
    "CELKOVY_POCET_ZIVOTU = 8\n",
    "zbyvajici_zivoty = CELKOVY_POCET_ZIVOTU\n",
    "stav = \"menu\"  # Stavová proměnná - \"menu/hra\"\n",
    "skore = -1  # Po skončení hry uloží předchozí skóre\n",
    "hadane_slovo = \"\"\n",
    "napoveda = \"\"  # Ukládá stav rozkrytí hádaného slova (\"Py---n\")\n",
    "\n",
    "# Seznam funkcí:\n",
    "\n",
    "def zobraz_menu():\n",
    "    # Zobrazí hlavní menu, volá se po spuštění programu / ukončení hry (stisknutí klávesy)\n",
    "    # stav = \"menu\"\n",
    "    # obsluhuje vstup od uživatele (vybírá položky zadáním jejich čísel):\n",
    "    # - 1) Nová hra ... zavolá funkci nova_hra()\n",
    "    # - 2) Konec ... ukončí program\n",
    "    pass\n",
    "\n",
    "def zobraz_hru(zbyvajici_zivoty, skore, napoveda):\n",
    "    # Vypíše herní obrazovku s nápovědou (\"----\") a počtem životů\n",
    "    # Zavolá funkci tah()\n",
    "    pass\n",
    "\n",
    "def nova_hra():\n",
    "    # Vybere náhodné slovo z n-tice (souboru) a uloží jej do proměnné hadane_slovo\n",
    "    # Do proměnné zbyvajici_zivoty uloží hodnotu z CELKOVY_POCET_ZIVOTU\n",
    "    # Změní stavovou proměnnou stav na \"hra\"\n",
    "    # Zavolá funkci zobraz_hru()\n",
    "    pass\n",
    "\n",
    "def tah():\n",
    "    # Vezme vstup (písmeno) od uživatele a vyhodnotí, zda je v hádaném slově přítomno\n",
    "    # Vrátí hádanku (\"-a-a\") doplněnou o všechny výskyty uhádnutého písmena\n",
    "    # Případně odečte jeden život\n",
    "    # Vyhodnotí, zda došlo k výhře nebo prohře a případně zavolá funkci zaver(vysledek)\n",
    "    # Když hra pokračuje, zavolá funkci zobraz_hru()\n",
    "    pass\n",
    "\n",
    "def zaver(vysledek):\n",
    "    # Oznámí výhru či prohru, zbývající životy (skóre), výsledek předchozí hry (proměnná skore)\n",
    "    # Uloží zbývající životy do proměnné skóre\n",
    "    # Po stisknutí libovolné klávesy zavolá funkci zobraz_menu()\n",
    "    pass"
   ]
  },
  {
   "cell_type": "code",
   "execution_count": 2,
   "metadata": {
    "tags": []
   },
   "outputs": [
    {
     "output_type": "stream",
     "name": "stdout",
     "text": "JavaScript\n\"----------\"\n\"----S-----\"\n"
    }
   ],
   "source": [
    "# aktualizace nápovědy\n",
    "hadane_slovo = \"JavaScript\"\n",
    "napoveda = len(hadane_slovo) * \"-\"\n",
    "\n",
    "def aktualizuj_napovedu(hadane_pismeno):\n",
    "    global napoveda\n",
    "    pocet_vyskytu = (hadane_slovo.lower()).count(hadane_pismeno)\n",
    "    na_pozicich = []\n",
    "    \n",
    "    # je třeba vzít aktuální nápovědu a vyměnit znak \"-\" za písmeno:\n",
    "    # - na všech pozicích, kde se má vyskytovat\n",
    "    # - ve správné velikosti dle vzoru hadane_slovo\n",
    "\n",
    "    relativni_pozice = 0\n",
    "    \n",
    "    for i in range(pocet_vyskytu):\n",
    "        na_pozicich.append((hadane_slovo[relativni_pozice:].lower()).index(hadane_pismeno) + relativni_pozice)\n",
    "        relativni_pozice += (hadane_slovo[relativni_pozice:].lower()).index(hadane_pismeno) + 1\n",
    "\n",
    "    for i in range(len(na_pozicich)):\n",
    "        pozice = na_pozicich[i]\n",
    "        if hadane_slovo[pozice].isupper():\n",
    "            napoveda = napoveda[:pozice] + hadane_pismeno.upper() + napoveda[pozice + 1:]\n",
    "        else:\n",
    "            napoveda = napoveda[:pozice] + hadane_pismeno + napoveda[pozice + 1:]\n",
    "        \n",
    "\n",
    "print(hadane_slovo)\n",
    "print(f\"\\\"{napoveda}\\\"\")\n",
    "aktualizuj_napovedu(input(\"Zadej písmeno: \").lower())\n",
    "print(f\"\\\"{napoveda}\\\"\")"
   ]
  },
  {
   "cell_type": "markdown",
   "metadata": {},
   "source": [
    "DALŠÍ MOŽNÁ VYLEPŠENÍ:\n",
    "- načítání hledaných slov ze souboru (resp. externího zdroje)\n",
    "- třídění slov do tématických skupin - možnost výběru témat uživatelem, téma jako nápověda apod.\n",
    "- možnost zadávat řetězce, nejen znaky (?)\n",
    "- možnost obětovat bod/-y za odkrytí písmene (nápověda) - doplnit to, které je ve slově nejvíckrát (?), co krátká slova?\n",
    "- ukládání a načtení skóre při novém spuštění programu\n",
    "- lepší vzhled - textová grafika, zvuky, použití kreslicího plátna Pythonu apod.\n",
    "- vytvoření kompletního GUI (Tkinter apod.)"
   ]
  }
 ]
}